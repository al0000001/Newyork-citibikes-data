{
 "cells": [
  {
   "cell_type": "code",
   "execution_count": 34,
   "metadata": {},
   "outputs": [],
   "source": [
    "import pandas as pd\n",
    "file_one = \"./JC-202301-citibike-tripdata.csv/JC-202301-citibike-tripdata.csv\"\n",
    "file_two = \"./JC-202302-citibike-tripdata.csv/JC-202302-citibike-tripdata.csv\"\n",
    "df_1 = pd.read_csv(file_one, encoding=\"ISO-8859-1\")\n",
    "df_2 = pd.read_csv(file_two, encoding=\"ISO-8859-1\")"
   ]
  },
  {
   "cell_type": "code",
   "execution_count": 35,
   "metadata": {},
   "outputs": [],
   "source": [
    "df_1['started_at'] = pd.to_datetime(df_1['started_at'], format='%Y/%m/%d %H:%M')\n",
    "df_1['ended_at'] = pd.to_datetime(df_1['ended_at'], format='%Y/%m/%d %H:%M')\n",
    "\n",
    "# calculate duration in seconds\n",
    "df_1['duration'] = (df_1['ended_at'] - df_1['started_at']).dt.total_seconds()\n",
    "\n",
    "\n",
    "\n",
    "df_2['started_at'] = pd.to_datetime(df_2['started_at'], format='%Y/%m/%d %H:%M')\n",
    "df_2['ended_at'] = pd.to_datetime(df_2['ended_at'], format='%Y/%m/%d %H:%M')\n",
    "\n",
    "# calculate duration in seconds\n",
    "\n",
    "df_2['duration'] = (df_2['ended_at'] - df_2['started_at']).dt.total_seconds()\n",
    "\n"
   ]
  },
  {
   "cell_type": "code",
   "execution_count": 36,
   "metadata": {},
   "outputs": [],
   "source": [
    "merged_df = pd.concat([df_1, df_2], ignore_index=True)\n",
    "merged_df.head()\n",
    "\n",
    "merged_df.to_csv('Citibike.csv', index=False)"
   ]
  }
 ],
 "metadata": {
  "kernelspec": {
   "display_name": "PythonData",
   "language": "python",
   "name": "python3"
  },
  "language_info": {
   "codemirror_mode": {
    "name": "ipython",
    "version": 3
   },
   "file_extension": ".py",
   "mimetype": "text/x-python",
   "name": "python",
   "nbconvert_exporter": "python",
   "pygments_lexer": "ipython3",
   "version": "3.7.7"
  },
  "orig_nbformat": 4,
  "vscode": {
   "interpreter": {
    "hash": "ade563fd8b07ef5431a43cc0ff573f4572b509730ee27d7a4386f0b6eabb93a1"
   }
  }
 },
 "nbformat": 4,
 "nbformat_minor": 2
}
